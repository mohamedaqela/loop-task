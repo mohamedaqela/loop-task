{
 "cells": [
  {
   "cell_type": "markdown",
   "id": "1f7a7136-2b6f-44ab-8446-2fb9cd86fd48",
   "metadata": {
    "id": "1f7a7136-2b6f-44ab-8446-2fb9cd86fd48"
   },
   "source": [
    "### Exercises ➞ <span class='label label-default'>Level 3</span>\n",
    "##### To access countries_details_data.py file\n",
    "##### > in first line in code write:\n",
    "##### > from countries import countries\n",
    "##### > from countries_details_dat import countries_data\n",
    "\n",
    "1. Go to the data folder and use the **[countries.py]()** file. Loop through the countries and extract all the countries containing the word **`land`**.\n",
    "2. Go to the data folder and use the **[countries_details_data.py]()** file.\n",
    "   1. What are the total number of languages in the data \\\\ 112\n",
    "   2. Find the ten most spoken languages from the data \\\\ English , French , Arabic\n",
    "   3. Find the 10 most populated countries in the world \\\\ China, India, US\n",
    "  \n",
    "3. Print the following pattern using loops (bones)\n",
    "\n",
    "```py\n",
    "   0 x 0 = 0\n",
    "   1 x 1 = 1\n",
    "   2 x 2 = 4\n",
    "   3 x 3 = 9\n",
    "   4 x 4 = 16\n",
    "   5 x 5 = 25\n",
    "   6 x 6 = 36\n",
    "   7 x 7 = 49\n",
    "   8 x 8 = 64\n",
    "   9 x 9 = 81\n",
    "   10 x 10 = 100\n",
    "```"
   ]
  },
  {
   "cell_type": "code",
   "execution_count": 11,
   "id": "kIbUljnf2Bhm",
   "metadata": {
    "id": "kIbUljnf2Bhm"
   },
   "outputs": [
    {
     "name": "stdout",
     "output_type": "stream",
     "text": [
      "['Finland', 'Iceland', 'Ireland', 'Marshall Islands', 'Netherlands', 'New Zealand', 'Poland', 'Solomon Islands', 'Swaziland', 'Switzerland', 'Thailand']\n"
     ]
    }
   ],
   "source": [
    "# 1\n",
    "from countries import countries\n",
    "land_countries = [country for country in countries if \"land\" in country]\n",
    "print(land_countries)\n"
   ]
  },
  {
   "cell_type": "code",
   "execution_count": 19,
   "id": "gOJSc_-02Bj8",
   "metadata": {
    "id": "gOJSc_-02Bj8"
   },
   "outputs": [
    {
     "name": "stdout",
     "output_type": "stream",
     "text": [
      "112\n"
     ]
    }
   ],
   "source": [
    "# 2.A \n",
    "from countries_details_dat import countries_data\n",
    "total_languages = set()\n",
    "for country in countries_data:\n",
    "      for language in country[\"languages\"]:\n",
    "          total_languages.add(language)\n",
    "        \n",
    "print(len(total_languages))\n"
   ]
  },
  {
   "cell_type": "code",
   "execution_count": 26,
   "id": "2ce02ec2-6188-46ca-9099-1a4393442b80",
   "metadata": {},
   "outputs": [
    {
     "name": "stdout",
     "output_type": "stream",
     "text": [
      "[('English', 91), ('French', 45), ('Arabic', 25), ('Spanish', 24), ('Portuguese', 9), ('Russian', 9), ('Dutch', 8), ('German', 7), ('Chinese', 5), ('Serbian', 4)]\n"
     ]
    }
   ],
   "source": [
    "# 2.B \n",
    "from collections import Counter\n",
    "\n",
    "language_counts = Counter(\n",
    "    language for country in countries_data for language in country[\"languages\"]\n",
    ")\n",
    "most_spoken_languages = language_counts.most_common(10)\n",
    "print(most_spoken_languages)\n"
   ]
  },
  {
   "cell_type": "code",
   "execution_count": 32,
   "id": "4269a190-503e-41f3-a634-67e91c6b1eda",
   "metadata": {},
   "outputs": [
    {
     "name": "stdout",
     "output_type": "stream",
     "text": [
      "['China', 'India', 'United States of America', 'Indonesia', 'Brazil', 'Pakistan', 'Nigeria', 'Bangladesh', 'Russian Federation', 'Japan']\n"
     ]
    }
   ],
   "source": [
    "# 2.C\n",
    "most_populated_countries = []\n",
    "countries_copy = countries_data[:]\n",
    "\n",
    "for country in range(10):\n",
    "    max_population_country = max(countries_copy, key=lambda x: x['population'])\n",
    "    most_populated_countries.append(max_population_country['name'])\n",
    "    countries_copy.remove(max_population_country)\n",
    "\n",
    "print(most_populated_countries)\n"
   ]
  },
  {
   "cell_type": "code",
   "execution_count": 34,
   "id": "beefa0bd-d041-4ae2-bb7d-d9612831afc1",
   "metadata": {},
   "outputs": [
    {
     "name": "stdout",
     "output_type": "stream",
     "text": [
      "0 x 0 = 0\n",
      "1 x 1 = 1\n",
      "2 x 2 = 4\n",
      "3 x 3 = 9\n",
      "4 x 4 = 16\n",
      "5 x 5 = 25\n",
      "6 x 6 = 36\n",
      "7 x 7 = 49\n",
      "8 x 8 = 64\n",
      "9 x 9 = 81\n",
      "10 x 10 = 100\n"
     ]
    }
   ],
   "source": [
    "# 3\n",
    "for i in range(11):\n",
    "    print(f\"{i} x {i} = {i*i}\")\n"
   ]
  },
  {
   "cell_type": "code",
   "execution_count": null,
   "id": "5d65f98e-7495-4874-b60f-a5ef9c0874da",
   "metadata": {},
   "outputs": [],
   "source": []
  },
  {
   "cell_type": "code",
   "execution_count": null,
   "id": "1b4e3c49-028e-498e-882e-868043492827",
   "metadata": {},
   "outputs": [],
   "source": []
  },
  {
   "cell_type": "code",
   "execution_count": null,
   "id": "12c53bb1-6e08-42dc-b72c-7fb7138a8778",
   "metadata": {},
   "outputs": [],
   "source": []
  },
  {
   "cell_type": "code",
   "execution_count": null,
   "id": "30ec1ce3-0da9-42d7-8581-a0138ec6c2ad",
   "metadata": {},
   "outputs": [],
   "source": []
  },
  {
   "cell_type": "code",
   "execution_count": null,
   "id": "6d39780f-a186-4806-a7dd-80fff2676f7c",
   "metadata": {},
   "outputs": [],
   "source": []
  },
  {
   "cell_type": "code",
   "execution_count": null,
   "id": "477b860f-c468-4992-8224-32b719ff051e",
   "metadata": {},
   "outputs": [],
   "source": []
  },
  {
   "cell_type": "code",
   "execution_count": null,
   "id": "805de8c5-445d-4928-912f-6ba3448ba045",
   "metadata": {},
   "outputs": [],
   "source": []
  },
  {
   "cell_type": "code",
   "execution_count": null,
   "id": "6add33ca-29f2-4df9-bce1-e25880c3986c",
   "metadata": {
    "id": "6add33ca-29f2-4df9-bce1-e25880c3986c"
   },
   "outputs": [],
   "source": []
  }
 ],
 "metadata": {
  "colab": {
   "provenance": []
  },
  "kernelspec": {
   "display_name": "Python 3 (ipykernel)",
   "language": "python",
   "name": "python3"
  },
  "language_info": {
   "codemirror_mode": {
    "name": "ipython",
    "version": 3
   },
   "file_extension": ".py",
   "mimetype": "text/x-python",
   "name": "python",
   "nbconvert_exporter": "python",
   "pygments_lexer": "ipython3",
   "version": "3.12.7"
  }
 },
 "nbformat": 4,
 "nbformat_minor": 5
}
